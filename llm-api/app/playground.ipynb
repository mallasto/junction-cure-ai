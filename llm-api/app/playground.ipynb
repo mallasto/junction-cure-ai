{
 "cells": [
  {
   "cell_type": "code",
   "execution_count": 11,
   "metadata": {},
   "outputs": [
    {
     "name": "stdout",
     "output_type": "stream",
     "text": [
      "The autoreload extension is already loaded. To reload it, use:\n",
      "  %reload_ext autoreload\n"
     ]
    }
   ],
   "source": [
    "%load_ext autoreload\n",
    "%autoreload 2\n",
    "\n",
    "import json\n",
    "\n",
    "disorders = json.load(open('./disorders.json'))\n",
    "symptoms = json.load(open('./symptoms.json'))"
   ]
  },
  {
   "cell_type": "code",
   "execution_count": 12,
   "metadata": {},
   "outputs": [
    {
     "name": "stdout",
     "output_type": "stream",
     "text": [
      "66 66 66 66\n",
      "[]\n"
     ]
    }
   ],
   "source": [
    "def flatten_list_of_lists(lst):\n",
    "    return [item for sublist in lst for item in sublist]\n",
    "    \n",
    "\n",
    "# Check if symptoms match\n",
    "symptoms1 = set([s['name'] for s in symptoms])\n",
    "symptoms2 = set(flatten_list_of_lists([d['symptoms'] for d in disorders]))\n",
    "union = symptoms1.union(symptoms2)\n",
    "intersection = set([s for s in symptoms2 if s in symptoms1])\n",
    "\n",
    "print(len(symptoms1), len(symptoms2), len(union), len(intersection))\n",
    "print([s for s in union if s not in intersection])"
   ]
  },
  {
   "cell_type": "code",
   "execution_count": 10,
   "metadata": {},
   "outputs": [],
   "source": [
    "symptoms = \"\"\"Apathy: A lack of interest, enthusiasm, or concern about things that others find moving or exciting.\n",
    "Avoidance of Reminders: Deliberately staying away from places, people, or activities that remind a person of a traumatic or distressing event.\n",
    "Avoidance of Social Interactions: Choosing not to engage in social activities and preferring to be alone.\n",
    "Changes in Appetite: Significant fluctuations in eating habits, either eating too much or too little.\n",
    "Chest Pain: Experiencing discomfort or pain in the chest area, which can be psychosomatic in nature.\n",
    "Chronic Feelings of Emptiness: Persistent sense of feeling empty, hollow, or void.\n",
    "Compulsive Behaviors: Performing certain actions repetitively and compulsively, often as a way of relieving anxiety.\n",
    "Delusions: Holding strong beliefs that are clearly false or irrational, but believed to be true.\n",
    "Depressive Episodes: Periods marked by feelings of extreme sadness, hopelessness, and a lack of interest or pleasure in activities.\n",
    "Difficulty Completing Tasks: Struggling to finish tasks or projects, often due to lack of focus or motivation.\n",
    "Difficulty Concentrating: Trouble focusing on tasks or maintaining attention.\n",
    "Difficulty Controlling Anger: Experiencing frequent, intense, or uncontrollable anger.\n",
    "Disorganized Thinking: Having trouble organizing thoughts, leading to disjointed or incoherent speech.\n",
    "Dizziness: Experiencing a sense of unsteadiness or lightheadedness.\n",
    "Excessive Doubting: Persistent and overwhelming doubt about one’s decisions or actions.\n",
    "Excessive Talking: Talking more than usual or feeling a need to keep talking.\n",
    "Excessive Worry: An extreme level of worry about various things, beyond what is considered normal.\n",
    "Fatigue: Persistent feelings of tiredness or lack of energy not related to recent physical exertion.\n",
    "Fear of Abandonment: An intense and persistent fear of being left alone or abandoned.\n",
    "Fear of Being Judged: A deep and persistent fear of being evaluated or criticized by others.\n",
    "Fear of Contamination: A strong fear of getting contaminated by germs, dirt, or other substances.\n",
    "Fear of Losing Control: Fear of losing control of oneself or one’s behavior.\n",
    "Fear of Social Situations: Extreme anxiety or discomfort in social settings or when interacting with others.\n",
    "Feelings of Choking: Sensation of choking or inability to breathe properly, often occurring in anxiety or panic attacks.\n",
    "Feelings of Emptiness: Persistent feelings of emptiness or numbness.\n",
    "Feelings of Worthlessness: Persistent beliefs about one's own inadequacy or lack of worth.\n",
    "Flashbacks: Vivid, distressing recollections of a traumatic event that feel as if they are happening in the present.\n",
    "Forgetfulness: Difficulty remembering information or events that one would normally recall easily.\n",
    "Grandiosity: An exaggerated sense of one's importance, power, knowledge, or identity.\n",
    "Hallucinations: Experiencing sensory perceptions (like seeing, hearing, or feeling things) that aren’t present.\n",
    "Heightened Sensitivity to Criticism: Overly strong reactions to criticism or perceived slights.\n",
    "Hopelessness: Feeling a deep sense of despair and belief that one’s situation is hopeless.\n",
    "Hyperactivity: Excessive physical movement and feelings of restlessness.\n",
    "Hyperarousal: Excessive alertness; constantly on the lookout for potential threats.\n",
    "Impulsivity: Acting suddenly without thought or planning.\n",
    "Indecisiveness: Difficulty making decisions, even about simple or everyday choices.\n",
    "Intense Relationships: Relationships characterized by extreme emotions or instability.\n",
    "Interrupting or Intruding on Others: Frequently interrupting or intruding on others’ conversations or activities.\n",
    "Intrusive Memories: Unwanted, involuntary, and distressing memories of past events.\n",
    "Irritability: Frequently feeling agitated, annoyed, or easily provoked.\n",
    "Lack of Concentration: Difficulty in focusing attention or maintaining focus on tasks or activities.\n",
    "Loss of Interest in Activities: No longer finding pleasure in activities or hobbies that were once enjoyed.\n",
    "Low Self-Esteem: A persistently negative view of oneself.\n",
    "Manic Episodes: Periods of extremely elevated mood, energy, and unusual activity levels.\n",
    "Mood Swings: Rapid and intense changes in mood.\n",
    "Muscle Tension: Physical tension in muscles, often related to stress or anxiety.\n",
    "Nausea or Abdominal Distress: Experiencing stomach discomfort, often linked to anxiety or stress.\n",
    "Need for Order and Symmetry: An overwhelming need for things to be in perfect order or symmetry.\n",
    "Negative Symptoms like Diminished Emotional Expression: Symptoms marked by a reduction in emotional expression or motivation.\n",
    "Nightmares: Disturbing dreams that cause distress or anxiety.\n",
    "Obsessive Thoughts: Persistent, unwanted thoughts that are intrusive and often distressing.\n",
    "Panic Attacks: Sudden, intense episodes of fear or anxiety accompanied by physical symptoms.\n",
    "Persistent Sadness: A long-lasting, profound sense of sadness.\n",
    "Physical Symptoms like Sweating and Trembling in Social Settings: Physical reactions, such as sweating or shaking, occurring in social situations due to anxiety.\n",
    "Rapid Speech: Speaking at an unusually fast pace, often a sign of manic behavior.\n",
    "Recurrent Thoughts of Death: Frequent thoughts about death or dying.\n",
    "Reduced Need for Sleep: Experiencing a decreased need for sleep without feeling tired.\n",
    "Restlessness: Feeling uneasy or unable to stay still.\n",
    "Risky Behaviors: Engaging in dangerous or harmful activities without considering the consequences.\n",
    "Self-Harm: Deliberately hurting oneself as a way of coping with emotional pain.\n",
    "Shortness of Breath: Experiencing difficulty breathing, often during anxiety or panic attacks.\n",
    "Sleep Disturbances: Problems with sleeping, such as insomnia or sleeping too much.\n",
    "Social Withdrawal: Pulling away from social interaction and preferring to be alone.\n",
    "Suicidal Thoughts: Thoughts about taking one's own life.\n",
    "Sweating: Excessive sweating, not related to physical exertion or high temperatures.\n",
    "Unusual Motor Behavior: Engaging in strange or unusual physical movements or behaviors.\"\"\"\n",
    "\n",
    "symptoms_dict = [{'name': s.split(':')[0], 'description': s.split(':')[1][1:]} for s in symptoms.split('\\n')]\n",
    "\n",
    "with open('symptoms.json', 'w') as f:\n",
    "    json.dump(symptoms_dict, f, indent=2)"
   ]
  }
 ],
 "metadata": {
  "kernelspec": {
   "display_name": "labradoodle",
   "language": "python",
   "name": "python3"
  },
  "language_info": {
   "codemirror_mode": {
    "name": "ipython",
    "version": 3
   },
   "file_extension": ".py",
   "mimetype": "text/x-python",
   "name": "python",
   "nbconvert_exporter": "python",
   "pygments_lexer": "ipython3",
   "version": "3.8.18"
  }
 },
 "nbformat": 4,
 "nbformat_minor": 2
}
