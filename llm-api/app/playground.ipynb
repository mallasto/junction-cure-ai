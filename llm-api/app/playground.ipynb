{
 "cells": [
  {
   "cell_type": "code",
   "execution_count": 4,
   "metadata": {},
   "outputs": [
    {
     "name": "stdout",
     "output_type": "stream",
     "text": [
      "The autoreload extension is already loaded. To reload it, use:\n",
      "  %reload_ext autoreload\n"
     ]
    }
   ],
   "source": [
    "%load_ext autoreload\n",
    "%autoreload 2\n",
    "\n",
    "import json\n",
    "\n",
    "disorders = json.load(open('./disorders.json'))\n",
    "symptoms = json.load(open('./symptoms.json'))"
   ]
  },
  {
   "cell_type": "code",
   "execution_count": 5,
   "metadata": {},
   "outputs": [
    {
     "name": "stdout",
     "output_type": "stream",
     "text": [
      "Major Depressive Disorder\n",
      "Generalized Anxiety Disorder\n",
      "Bipolar Disorder\n",
      "Post-Traumatic Stress Disorder\n",
      "Obsessive-Compulsive Disorder\n",
      "Panic Disorder\n",
      "Social Anxiety Disorder\n",
      "Schizophrenia\n",
      "Borderline Personality Disorder\n",
      "Attention-Deficit/Hyperactivity Disorder\n"
     ]
    }
   ],
   "source": [
    "for d in disorders:\n",
    "    print(d['name'])"
   ]
  },
  {
   "cell_type": "code",
   "execution_count": 12,
   "metadata": {},
   "outputs": [
    {
     "name": "stdout",
     "output_type": "stream",
     "text": [
      "66 66 66 66\n",
      "[]\n"
     ]
    }
   ],
   "source": [
    "def flatten_list_of_lists(lst):\n",
    "    return [item for sublist in lst for item in sublist]\n",
    "    \n",
    "\n",
    "# Check if symptoms match\n",
    "symptoms1 = set([s['name'] for s in symptoms])\n",
    "symptoms2 = set(flatten_list_of_lists([d['symptoms'] for d in disorders]))\n",
    "union = symptoms1.union(symptoms2)\n",
    "intersection = set([s for s in symptoms2 if s in symptoms1])\n",
    "\n",
    "print(len(symptoms1), len(symptoms2), len(union), len(intersection))\n",
    "print([s for s in union if s not in intersection])"
   ]
  },
  {
   "cell_type": "code",
   "execution_count": 10,
   "metadata": {},
   "outputs": [],
   "source": [
    "symptoms = \"\"\"Apathy: A lack of interest, enthusiasm, or concern about things that others find moving or exciting.\n",
    "Avoidance of Reminders: Deliberately staying away from places, people, or activities that remind a person of a traumatic or distressing event.\n",
    "Avoidance of Social Interactions: Choosing not to engage in social activities and preferring to be alone.\n",
    "Changes in Appetite: Significant fluctuations in eating habits, either eating too much or too little.\n",
    "Chest Pain: Experiencing discomfort or pain in the chest area, which can be psychosomatic in nature.\n",
    "Chronic Feelings of Emptiness: Persistent sense of feeling empty, hollow, or void.\n",
    "Compulsive Behaviors: Performing certain actions repetitively and compulsively, often as a way of relieving anxiety.\n",
    "Delusions: Holding strong beliefs that are clearly false or irrational, but believed to be true.\n",
    "Depressive Episodes: Periods marked by feelings of extreme sadness, hopelessness, and a lack of interest or pleasure in activities.\n",
    "Difficulty Completing Tasks: Struggling to finish tasks or projects, often due to lack of focus or motivation.\n",
    "Difficulty Concentrating: Trouble focusing on tasks or maintaining attention.\n",
    "Difficulty Controlling Anger: Experiencing frequent, intense, or uncontrollable anger.\n",
    "Disorganized Thinking: Having trouble organizing thoughts, leading to disjointed or incoherent speech.\n",
    "Dizziness: Experiencing a sense of unsteadiness or lightheadedness.\n",
    "Excessive Doubting: Persistent and overwhelming doubt about one’s decisions or actions.\n",
    "Excessive Talking: Talking more than usual or feeling a need to keep talking.\n",
    "Excessive Worry: An extreme level of worry about various things, beyond what is considered normal.\n",
    "Fatigue: Persistent feelings of tiredness or lack of energy not related to recent physical exertion.\n",
    "Fear of Abandonment: An intense and persistent fear of being left alone or abandoned.\n",
    "Fear of Being Judged: A deep and persistent fear of being evaluated or criticized by others.\n",
    "Fear of Contamination: A strong fear of getting contaminated by germs, dirt, or other substances.\n",
    "Fear of Losing Control: Fear of losing control of oneself or one’s behavior.\n",
    "Fear of Social Situations: Extreme anxiety or discomfort in social settings or when interacting with others.\n",
    "Feelings of Choking: Sensation of choking or inability to breathe properly, often occurring in anxiety or panic attacks.\n",
    "Feelings of Emptiness: Persistent feelings of emptiness or numbness.\n",
    "Feelings of Worthlessness: Persistent beliefs about one's own inadequacy or lack of worth.\n",
    "Flashbacks: Vivid, distressing recollections of a traumatic event that feel as if they are happening in the present.\n",
    "Forgetfulness: Difficulty remembering information or events that one would normally recall easily.\n",
    "Grandiosity: An exaggerated sense of one's importance, power, knowledge, or identity.\n",
    "Hallucinations: Experiencing sensory perceptions (like seeing, hearing, or feeling things) that aren’t present.\n",
    "Heightened Sensitivity to Criticism: Overly strong reactions to criticism or perceived slights.\n",
    "Hopelessness: Feeling a deep sense of despair and belief that one’s situation is hopeless.\n",
    "Hyperactivity: Excessive physical movement and feelings of restlessness.\n",
    "Hyperarousal: Excessive alertness; constantly on the lookout for potential threats.\n",
    "Impulsivity: Acting suddenly without thought or planning.\n",
    "Indecisiveness: Difficulty making decisions, even about simple or everyday choices.\n",
    "Intense Relationships: Relationships characterized by extreme emotions or instability.\n",
    "Interrupting or Intruding on Others: Frequently interrupting or intruding on others’ conversations or activities.\n",
    "Intrusive Memories: Unwanted, involuntary, and distressing memories of past events.\n",
    "Irritability: Frequently feeling agitated, annoyed, or easily provoked.\n",
    "Lack of Concentration: Difficulty in focusing attention or maintaining focus on tasks or activities.\n",
    "Loss of Interest in Activities: No longer finding pleasure in activities or hobbies that were once enjoyed.\n",
    "Low Self-Esteem: A persistently negative view of oneself.\n",
    "Manic Episodes: Periods of extremely elevated mood, energy, and unusual activity levels.\n",
    "Mood Swings: Rapid and intense changes in mood.\n",
    "Muscle Tension: Physical tension in muscles, often related to stress or anxiety.\n",
    "Nausea or Abdominal Distress: Experiencing stomach discomfort, often linked to anxiety or stress.\n",
    "Need for Order and Symmetry: An overwhelming need for things to be in perfect order or symmetry.\n",
    "Negative Symptoms like Diminished Emotional Expression: Symptoms marked by a reduction in emotional expression or motivation.\n",
    "Nightmares: Disturbing dreams that cause distress or anxiety.\n",
    "Obsessive Thoughts: Persistent, unwanted thoughts that are intrusive and often distressing.\n",
    "Panic Attacks: Sudden, intense episodes of fear or anxiety accompanied by physical symptoms.\n",
    "Persistent Sadness: A long-lasting, profound sense of sadness.\n",
    "Physical Symptoms like Sweating and Trembling in Social Settings: Physical reactions, such as sweating or shaking, occurring in social situations due to anxiety.\n",
    "Rapid Speech: Speaking at an unusually fast pace, often a sign of manic behavior.\n",
    "Recurrent Thoughts of Death: Frequent thoughts about death or dying.\n",
    "Reduced Need for Sleep: Experiencing a decreased need for sleep without feeling tired.\n",
    "Restlessness: Feeling uneasy or unable to stay still.\n",
    "Risky Behaviors: Engaging in dangerous or harmful activities without considering the consequences.\n",
    "Self-Harm: Deliberately hurting oneself as a way of coping with emotional pain.\n",
    "Shortness of Breath: Experiencing difficulty breathing, often during anxiety or panic attacks.\n",
    "Sleep Disturbances: Problems with sleeping, such as insomnia or sleeping too much.\n",
    "Social Withdrawal: Pulling away from social interaction and preferring to be alone.\n",
    "Suicidal Thoughts: Thoughts about taking one's own life.\n",
    "Sweating: Excessive sweating, not related to physical exertion or high temperatures.\n",
    "Unusual Motor Behavior: Engaging in strange or unusual physical movements or behaviors.\"\"\"\n",
    "\n",
    "symptoms_dict = [{'name': s.split(':')[0], 'description': s.split(':')[1][1:]} for s in symptoms.split('\\n')]\n",
    "\n",
    "with open('symptoms.json', 'w') as f:\n",
    "    json.dump(symptoms_dict, f, indent=2)"
   ]
  },
  {
   "cell_type": "code",
   "execution_count": 3,
   "metadata": {},
   "outputs": [
    {
     "name": "stdout",
     "output_type": "stream",
     "text": [
      "{'model': <class 'llm.get_openai_function_api.<locals>.QueryModel'>, 'api': {'name': 'QueryModel', 'description': 'Output Schema for matching journal excerpts to symptoms.', 'parameters': {'$defs': {'SymptomModel': {'description': 'Output Schema for excerpts', 'properties': {'symptom': {'description': 'Name of the symptom expressed in the journal entry', 'title': 'Symptom', 'type': 'string'}, 'excerpts': {'description': 'List of excerpts from the journal entry that you associate with a given symptom', 'items': {'type': 'string'}, 'title': 'Excerpts', 'type': 'array'}, 'reason': {'description': 'Reason for why the symptom can be concluded from the excerpts', 'title': 'Reason', 'type': 'string'}}, 'required': ['symptom', 'excerpts', 'reason'], 'title': 'SymptomModel', 'type': 'object'}}, 'description': 'Output Schema for matching journal excerpts to symptoms.', 'properties': {'symptoms': {'items': {'$ref': '#/$defs/SymptomModel'}, 'title': 'Symptoms', 'type': 'array'}}, 'required': ['symptoms'], 'title': 'QueryModel', 'type': 'object'}}}\n"
     ]
    }
   ],
   "source": [
    "import llm\n",
    "schema = llm.get_openai_function_api('symptoms')\n",
    "print(schema)"
   ]
  },
  {
   "cell_type": "markdown",
   "metadata": {},
   "source": [
    "[\n",
    "    {\"name\": \"Major Depressive Disorder\", \"symptoms\": [\"Persistent Sadness\", \"Fatigue\", \"Sleep Disturbances\", \"Changes in Appetite\", \"Lack of Concentration\", \"Feelings of Worthlessness\", \"Hopelessness\", \"Suicidal Thoughts\", \"Loss of Interest in Activities\", \"Recurrent Thoughts of Death\"]},\n",
    "    {\"name\": \"Generalized Anxiety Disorder\", \"symptoms\": [\"Excessive Worry\", \"Restlessness\", \"Fatigue\", \"Difficulty Concentrating\", \"Irritability\", \"Sleep Disturbances\", \"Muscle Tension\"]},\n",
    "    {\"name\": \"Bipolar Disorder\", \"symptoms\": [\"Mood Swings\", \"Manic Episodes\", \"Depressive Episodes\", \"Irritability\", \"Restlessness\", \"Rapid Speech\", \"Grandiosity\", \"Reduced Need for Sleep\", \"Risky Behaviors\"]},\n",
    "    {\"name\": \"Post-Traumatic Stress Disorder\", \"symptoms\": [\"Flashbacks\", \"Avoidance of Reminders\", \"Hyperarousal\", \"Intrusive Memories\", \"Nightmares\", \"Heightened Sensitivity to Criticism\", \"Irritability\", \"Difficulty Concentrating\"]},\n",
    "    {\"name\": \"Obsessive-Compulsive Disorder\", \"symptoms\": [\"Obsessive Thoughts\", \"Compulsive Behaviors\", \"Excessive Doubting\", \"Need for Order and Symmetry\", \"Fear of Contamination\", \"Indecisiveness\"]},\n",
    "    {\"name\": \"Panic Disorder\", \"symptoms\": [\"Panic Attacks\", \"Sweating\", \"Shortness of Breath\", \"Feelings of Choking\", \"Chest Pain\", \"Nausea or Abdominal Distress\", \"Dizziness\", \"Fear of Losing Control\"]},\n",
    "    {\"name\": \"Social Anxiety Disorder\", \"symptoms\": [\"Excessive Worry\", \"Fear of Social Situations\", \"Avoidance of Social Interactions\", \"Physical Symptoms like Sweating and Trembling in Social Settings\", \"Fear of Being Judged\", \"Low Self-Esteem\"]},\n",
    "    {\"name\": \"Schizophrenia\", \"symptoms\": [\"Delusions\", \"Hallucinations\", \"Disorganized Thinking\", \"Negative Symptoms like Diminished Emotional Expression\", \"Unusual Motor Behavior\", \"Social Withdrawal\", \"Lack of Concentration\", \"Apathy\"]},\n",
    "    {\"name\": \"Borderline Personality Disorder\", \"symptoms\": [\"Mood Swings\", \"Fear of Abandonment\", \"Impulsivity\", \"Self-Harm\", \"Feelings of Emptiness\", \"Intense Relationships\", \"Chronic Feelings of Emptiness\", \"Difficulty Controlling Anger\"]},\n",
    "    {\"name\": \"Attention-Deficit/Hyperactivity Disorder\", \"symptoms\": [\"Lack of Concentration\", \"Hyperactivity\", \"Impulsivity\", \"Restlessness\", \"Difficulty Completing Tasks\", \"Interrupting or Intruding on Others\", \"Forgetfulness\", \"Excessive Talking\"]}\n",
    "]\n"
   ]
  },
  {
   "cell_type": "markdown",
   "metadata": {},
   "source": [
    "Could you write different example patient journals? The journal is represented by a list of entries, one entry per day, for at least five days. Please make them realistic entries, what normal people could write, about their ups and downs, everyday life, not everything should be symptomatic of a disorder. Each entry should be at least couple of paragraphs. The journal should be written by someone mentally healthy, but just going through a rough patch in life. Respond with a json list of strings, one string for an entry."
   ]
  },
  {
   "cell_type": "code",
   "execution_count": 11,
   "metadata": {},
   "outputs": [
    {
     "name": "stdout",
     "output_type": "stream",
     "text": [
      "## Emotional Awareness and Expression\n",
      "Criteria:\n",
      "\tDoes the journal reflect an understanding of one’s own emotions?\n",
      "\tAre emotions expressed clearly and appropriately?\n",
      "\tIs there evidence of the writer trying to understand and label their feelings accurately?\n",
      "Examples:\n",
      "\tI'm so happy to see how you've clearly articulated your feelings in your entries. It's like watching a friend find a new path on a sunny day – so much potential and new beginnings!\n",
      "\tWhen you write about feeling overwhelmed, it's like you're on a long, winding walk. Next time, why not explore a bit more about what's along that path? What feelings are hiding in the bushes?\n",
      "\n",
      "## Self-Reflection and Insight\n",
      "Criteria:\n",
      "\tDoes the journal show self-reflection or introspection?\n",
      "\tIs there evidence of the writer understanding underlying reasons for their feelings or behaviors?\n",
      "Examples:\n",
      "\tYour reflection on what triggers your stress was as insightful as finding a hidden treat under the couch! It shows how much you're learning about yourself, and that's wonderful!\n",
      "\tI loved reading about your journey to understanding your reactions. Like a curious pup, keep digging into those beliefs and past experiences that shape your reactions. There's so much to discover!\n",
      "\n",
      "## Coping Strategies and Problem-Solving\n",
      "Criteria:\n",
      "\tAre there instances where the writer discusses or employs coping strategies?\n",
      "\tDoes the writer reflect on the effectiveness of these strategies?\n",
      "Examples:\n",
      "\tSeeing you try deep breathing to manage stress is as heartwarming as a cuddle session! How do you feel about these strategies? Are they like a cozy blanket on a chilly night?\n",
      "\tYour use of journaling to cope with sadness is as comforting as a favorite chew toy. Have you thought about other activities, like a leisurely walk or playful meditation, to add to your happiness toolkit?\n",
      "\n",
      "## Growth and Progress\n",
      "Criteria:\n",
      "\tIs there evidence of personal growth or progress over time?\n",
      "\tDoes the writer recognize and reflect on their own development?\n",
      "Examples:\n",
      "\tIt's delightful to see your growth, like a plant reaching towards the sun. Your progress, especially in understanding your emotions, is like watching a garden bloom!\n",
      "\tEach day, you're growing a bit more, like a young pup learning new tricks. Maybe setting some small, achievable goals could be your next fun adventure?\n",
      "\n",
      "## Resilience and Strengths Recognition\n",
      "Criteria:\n",
      "\tDoes the writer acknowledge their strengths or moments of resilience?\n",
      "\tIs there a balance between recognizing challenges and acknowledging strengths?\n",
      "Examples:\n",
      "\tYour ability to recognize your strengths is as joyful as a game of fetch in the park. It’s important to see the bright spots on cloudy days, and you’re doing just that!\n",
      "\tBalancing your view of weaknesses and strengths is like finding the perfect spot to rest – it's all about comfort and perspective. Keep celebrating your strengths; they are part of what makes you unique and special.\n",
      "\n",
      "## Constructive Attitude\n",
      "Criteria:\n",
      "\tDoes the writer maintain a constructive or hopeful attitude towards challenges?\n",
      "\tIs there an effort to learn or grow from difficult experiences?\n",
      "Examples:\n",
      "\tYour hopeful attitude towards challenges is as uplifting as a surprise treat. It's wonderful to see you approach life's hurdles with a tail-wagging enthusiasm.\n",
      "\tMaintaining a learning-oriented attitude is like exploring a new, exciting trail. Each challenge is an opportunity to learn something new about the world and yourself.\n",
      "\n",
      "## Overall Engagement and Effort\n",
      "Criteria:\n",
      "\tIs the journaling consistent and reflective of genuine effort?\n",
      "\tDoes the writer engage with the process of journaling in a meaningful way?\n",
      "Examples:\n",
      "\tYour dedication to journaling is as admirable as a loyal companion. Just like a good friend, it’s always there for you. Keep up this fantastic journey of self-discovery!\n",
      "\tYour consistent effort in maintaining this journal is like a steady walk – reliable and so important for well-being. Your engagement in this process is truly commendable. Keep going!\n",
      "\n",
      "\n"
     ]
    }
   ],
   "source": [
    "import openai\n",
    "import json\n",
    "import yaml\n",
    "from typing import List\n",
    "from pydantic import BaseModel, Field\n",
    "\n",
    "import llm\n",
    "\n",
    "with open(\"./rubric.json\", \"r\") as f:\n",
    "    RUBRIC = json.load(f)\n",
    "\n",
    "string = llm.format_rubric_string(RUBRIC)\n",
    "\n",
    "print(string)"
   ]
  },
  {
   "cell_type": "code",
   "execution_count": 15,
   "metadata": {},
   "outputs": [
    {
     "name": "stdout",
     "output_type": "stream",
     "text": [
      " ## THERAPY JOURNAL:\n",
      "    Today was just okay. Work was the usual mix of meetings and deadlines. Managed to get most of my tasks done, but couldn't shake off this lingering feeling of being overwhelmed, even by small things. Dinner was nice, made spaghetti, my favorite, but it didn't taste as good as it usually does. Feeling pretty tired, although I didn't do much. Going to try and get some sleep, hopefully will feel more energized tomorrow.\n",
      "\n",
      "Struggled to get out of bed this morning, even though I slept a decent amount. The weather was gloomy, which didn’t help my mood. Work was fine, nothing special. I’ve been finding it hard to concentrate lately, my mind keeps drifting off. In the evening, I decided to skip my usual jog. Just wasn't feeling up to it. Ended up watching some TV, but I can't even remember what I watched.\n",
      "\n",
      "Today was a bit better. The sun was out, and it lifted my spirits a bit. Had a productive morning at work. But by the afternoon, I felt that familiar heaviness setting in again. I keep wondering why I can't just be happy when things are going fine. Skipped calling mom; I just didn't have the energy for conversation. Made a simple dinner, but didn’t have much appetite. I should probably try to be more social, but it feels like too much effort.\n",
      "\n",
      "Didn't sleep well last night, kept tossing and turning. As a result, I felt pretty low energy all day. Work was a blur. I know my colleagues are nice, but I sometimes feel so disconnected from them. I forced myself to take a walk during lunch, which was okay. In the evening, I tried reading, but couldn't focus. My thoughts kept wandering to negative things, like past mistakes and worries about the future. I wish I could stop these thoughts.\n",
      "\n",
      "Friday at last, but I don't feel that usual relief. The day was average, nothing particularly good or bad happened. After work, I had plans to meet with a friend, but I canceled. I just didn't feel up to pretending to be cheerful. Spent the night at home, feeling a bit lonely. I keep telling myself I’ll reach out for help, talk to someone about how I’ve been feeling, but I keep putting it off. Maybe next week will be better.\n",
      "\n",
      "\n",
      "    \n"
     ]
    }
   ],
   "source": [
    "import json\n",
    "\n",
    "with open(\"../../data/journals.json\") as f:\n",
    "    journal = json.load(f)\n",
    "\n",
    "def format_user_message(entries):\n",
    "    journal_str = \"\"\n",
    "    for entry in entries:\n",
    "        journal_str += f\"{entry}\\n\\n\"\n",
    "    return f\"\"\" ## THERAPY JOURNAL:\n",
    "    {journal_str}\n",
    "    \"\"\"\n",
    "\n",
    "entries = journal[0]['entries']\n",
    "user_message = format_user_message(entries)\n",
    "\n",
    "print(user_message)"
   ]
  }
 ],
 "metadata": {
  "kernelspec": {
   "display_name": "labradoodle",
   "language": "python",
   "name": "python3"
  },
  "language_info": {
   "codemirror_mode": {
    "name": "ipython",
    "version": 3
   },
   "file_extension": ".py",
   "mimetype": "text/x-python",
   "name": "python",
   "nbconvert_exporter": "python",
   "pygments_lexer": "ipython3",
   "version": "3.8.18"
  }
 },
 "nbformat": 4,
 "nbformat_minor": 2
}
